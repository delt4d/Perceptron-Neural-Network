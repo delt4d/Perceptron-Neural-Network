{
 "cells": [
  {
   "cell_type": "code",
   "execution_count": 1,
   "metadata": {},
   "outputs": [],
   "source": [
    "import numpy as np\n",
    "\n",
    "class Perceptron:\n",
    "    def __init__(self):\n",
    "        pass\n",
    "\n",
    "    #Usado após criar a rede para treinar\n",
    "    #modelo de IA -> Aprendizado\n",
    "    def treinamento(self, entradas, saidas, taxaAprendizado, epocas):\n",
    "        self.entradas = entradas\n",
    "        self.saidas = saidas\n",
    "        self.taxaAprendizado = taxaAprendizado\n",
    "        self.epocas = epocas\n",
    "\n",
    "        #Pesos e bias gerados aletoriamente\n",
    "        #na primeira etapa do treinamento\n",
    "        w1 = np.random.uniform(-1,1)\n",
    "        w2 = np.random.uniform(-1,1)\n",
    "        bias = np.random.uniform(-1,1)\n",
    "\n",
    "        for _ in range(self.epocas):\n",
    "            for i in range(len(self.entradas)):\n",
    "                #Computar a saída prevista\n",
    "                #Aplicar uma função de ativação: SIGMOID\n",
    "                x = (self.entradas[i][0] * w1) + (self.entradas[i][1] * w2) + bias\n",
    "                sigmoid = self.sigmoid(x)\n",
    "\n",
    "                w1 += self.taxaAprendizado * (self.saidas[i][0] - sigmoid) * self.entradas[i][0]\n",
    "                w2 += self.taxaAprendizado * (self.saidas[i][0] - sigmoid) * self.entradas[i][1]\n",
    "\n",
    "                bias += self.taxaAprendizado * (self.saidas[i][0] - sigmoid)\n",
    "\n",
    "        self.w1 = w1\n",
    "        self.w2 = w2\n",
    "        self.bias = bias\n",
    "\n",
    "    #Função de ativação\n",
    "    def sigmoid(self, x):\n",
    "        return 1 / (1 + np.exp(-x))\n",
    "\n",
    "    #Após treinar ela é usada para predizer\n",
    "    #a classe de uma Entrada qualquer\n",
    "    def predicao(self, entrada):\n",
    "        x = np.dot(entrada[0], self.w1) + np.dot(entrada[1], self.w2) + self.bias\n",
    "        return self.sigmoid(x)"
   ]
  }
 ],
 "metadata": {
  "kernelspec": {
   "display_name": ".venv",
   "language": "python",
   "name": "python3"
  },
  "language_info": {
   "codemirror_mode": {
    "name": "ipython",
    "version": 3
   },
   "file_extension": ".py",
   "mimetype": "text/x-python",
   "name": "python",
   "nbconvert_exporter": "python",
   "pygments_lexer": "ipython3",
   "version": "3.12.2"
  }
 },
 "nbformat": 4,
 "nbformat_minor": 2
}
